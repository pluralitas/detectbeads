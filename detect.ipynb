{
 "cells": [
  {
   "cell_type": "markdown",
   "metadata": {},
   "source": [
    "## Image comparison and sorting\n",
    "\n",
    "This jupyter notebook (.ipynb) is used to sort images based on it's similarity with a reference image. It can be used for multiple functions but this is designed to be used for detecting microbeads in a series of microscopy images.\n",
    "\n",
    "### Instructions:\n",
    "\n",
    "Under the settings tab:\n",
    "1. Put a reference image into a folder and designate the folder path ```folder_reference```   The first image in the reference folder will be used.\n",
    "2. Put all the images to compare in 1 folder and designate the folder path ```folder_input```.\n",
    "3. Designate ```folder_same``` for images similar to the reference image. Likewise, designate ```folder_diff``` for images different to the reference image. The sorting process will transfer images in ```folder_input``` into one of the 2 designated folders depending on the threshold value ```thres_value```.\n",
    "4. Run all lines of code. VS Code has the \"Run All\" function.\n",
    "\n",
    "A log will also be created in the reference folder after sorting. Open with a text editor to see the information of the sorted files."
   ]
  },
  {
   "cell_type": "code",
   "execution_count": null,
   "metadata": {},
   "outputs": [],
   "source": [
    "#Import prerequisite packages [Note that these packages has to be installed first]\n",
    "import pandas as pd, numpy as np, cv2, os, logging"
   ]
  },
  {
   "cell_type": "markdown",
   "metadata": {},
   "source": [
    "### 1. Settings"
   ]
  },
  {
   "cell_type": "code",
   "execution_count": null,
   "metadata": {},
   "outputs": [],
   "source": [
    "#Image file type\n",
    "filetype = \".jpg\"\n",
    "\n",
    "#Change threshold value with assistance using logging\n",
    "thres_value = 30\n",
    "\n",
    "#Reference Folder\n",
    "folder_reference = \"/Users/aucheukyan/Library/CloudStorage/OneDrive-NationalUniversityofSingapore/_CTLimNishanth_BeadDetect/Reference\"\n",
    "\n",
    "#Input folder\n",
    "folder_input = \"/Users/aucheukyan/Library/CloudStorage/OneDrive-NationalUniversityofSingapore/_CTLimNishanth_BeadDetect/10umbeads\" \n",
    "\n",
    "#Output folder\n",
    "folder_same = \"/Users/aucheukyan/Library/CloudStorage/OneDrive-NationalUniversityofSingapore/_CTLimNishanth_BeadDetect/Blank\" #image same as reference i.e. empty channels\n",
    "folder_diff = \"/Users/aucheukyan/Library/CloudStorage/OneDrive-NationalUniversityofSingapore/_CTLimNishanth_BeadDetect/NotBlank\" #image different from reference ie. channels with microspheres"
   ]
  },
  {
   "cell_type": "markdown",
   "metadata": {},
   "source": [
    "### 2. Reference Image (Blank Channel)\n",
    "Ensure that there is a reference image before proceeding to 3."
   ]
  },
  {
   "cell_type": "code",
   "execution_count": null,
   "metadata": {},
   "outputs": [],
   "source": [
    "reffiles = [f for f in os.listdir(folder_reference) if f.endswith(filetype)] #select your image file type here\n",
    "if not reffiles:\n",
    "    print(\"No reference image found!!!\")\n",
    "else:\n",
    "    logfile = os.path.join(folder_reference, reffiles[0][:-4]+'.log')\n",
    "    logging.basicConfig(filename=logfile, filemode='a')\n",
    "    logging.getLogger().setLevel(logging.INFO)\n",
    "    img_ref = cv2.imread(os.path.join(folder_reference, reffiles[0]),0)\n",
    "    img_sub = cv2.selectROI(\"select the area\", img_ref)\n",
    "    img_refroi = img_ref[int(img_sub[1]):int(img_sub[1]+img_sub[3]),\n",
    "                         int(img_sub[0]):int(img_sub[0]+img_sub[2])]\n",
    "    print(\"Ready to compare! Ref file: \" + str(reffiles[0]))\n",
    "    # print(img_sub) #Print ROI coordinates"
   ]
  },
  {
   "cell_type": "markdown",
   "metadata": {},
   "source": [
    "### 3. Images to compare to Reference Image for sorting."
   ]
  },
  {
   "cell_type": "code",
   "execution_count": null,
   "metadata": {},
   "outputs": [],
   "source": [
    "files = [f for f in os.listdir(folder_input) if f.endswith(filetype)] #select your image file type here\n",
    "print(\"Number of files to compare against Reference image: \" + str(len(files)))"
   ]
  },
  {
   "cell_type": "code",
   "execution_count": null,
   "metadata": {},
   "outputs": [],
   "source": [
    "# Sort the files according to threshold with reference image\n",
    "for i in range(len(files)):\n",
    "    # #Import file\n",
    "    file = os.path.join(folder_input, files[i])\n",
    "    img = cv2.imread(file,cv2.IMREAD_GRAYSCALE)\n",
    "    img_roi = img[int(img_sub[1]):int(img_sub[1]+img_sub[3]),\n",
    "                  int(img_sub[0]):int(img_sub[0]+img_sub[2])]\n",
    "    \n",
    "    # #Comparison\n",
    "    # img_diff = cv2.absdiff(img, img_ref) #compare full image\n",
    "    img_diff = cv2.absdiff(img_roi,img_refroi) #compare ROI\n",
    "\n",
    "    # #Outputs image difference\n",
    "    # outfile = files[i][:-4]+ \"_subtract.jpg\"\n",
    "    # cv2.imwrite(outfile, img_diff)\n",
    "\n",
    "    # #Find max difference\n",
    "    total_diff = img_diff.max()\n",
    "\n",
    "    # #putting them in place base on threshold value\n",
    "    if total_diff > thres_value:\n",
    "        os.rename(file, os.path.join(folder_diff, files[i]))\n",
    "        logging.info(\"Processing:\" + str(i) + \" of \" + str(len(files)) + \", filename:\" + files[i] + \", maxdiff:\" + str(total_diff) + \", result:Diff\")\n",
    "    else:\n",
    "        os.rename(file, os.path.join(folder_same,files[i]))\n",
    "        logging.info(\"Processing:\" + str(i) + \" of \" + str(len(files)) + \", filename:\" + files[i] + \", maxdiff:\" + str(total_diff)+ \", result:Same\")"
   ]
  }
 ],
 "metadata": {
  "kernelspec": {
   "display_name": "python390",
   "language": "python",
   "name": "python3"
  },
  "language_info": {
   "codemirror_mode": {
    "name": "ipython",
    "version": 3
   },
   "file_extension": ".py",
   "mimetype": "text/x-python",
   "name": "python",
   "nbconvert_exporter": "python",
   "pygments_lexer": "ipython3",
   "version": "3.9.19"
  }
 },
 "nbformat": 4,
 "nbformat_minor": 2
}
